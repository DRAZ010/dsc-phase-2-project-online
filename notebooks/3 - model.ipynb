{
 "cells": [
  {
   "cell_type": "markdown",
   "metadata": {},
   "source": [
    "## Final Project Submission\n",
    "Please fill out:\n",
    "* Student name: David Rasmussen\n",
    "* Student pace: full time\n",
    "* Scheduled project review date/time: 10/29/2020 \n",
    "* Instructor name: Rafael Carassco\n"
   ]
  },
  {
   "cell_type": "markdown",
   "metadata": {},
   "source": [
    "## Import Libraries and Data"
   ]
  },
  {
   "cell_type": "code",
   "execution_count": 14,
   "metadata": {
    "ExecuteTime": {
     "end_time": "2020-10-29T22:43:05.581714Z",
     "start_time": "2020-10-29T22:43:05.564253Z"
    }
   },
   "outputs": [],
   "source": [
    "import numpy as np \n",
    "import pandas as pd\n",
    "import time\n",
    "\n",
    "import scipy.stats as stats \n",
    "import statsmodels.api as sm\n",
    "\n",
    "\n",
    "from sklearn.linear_model import LinearRegression, Ridge, Lasso \n",
    "from sklearn.model_selection import train_test_split, cross_val_score\n",
    "from sklearn.model_selection import KFold\n",
    "from statsmodels.formula.api import ols\n",
    "\n",
    "import matplotlib.pyplot as plt\n",
    "import seaborn as sns\n",
    "import plotly.express as px\n",
    "import plotly.graph_objects as go\n",
    "import plotly.offline as pyo\n",
    "from statsmodels.stats.outliers_influence import variance_inflation_factor\n",
    "\n",
    "%matplotlib inline"
   ]
  },
  {
   "cell_type": "code",
   "execution_count": 4,
   "metadata": {
    "ExecuteTime": {
     "end_time": "2020-10-29T22:42:32.899536Z",
     "start_time": "2020-10-29T22:42:32.839673Z"
    }
   },
   "outputs": [
    {
     "data": {
      "text/html": [
       "<div>\n",
       "<style scoped>\n",
       "    .dataframe tbody tr th:only-of-type {\n",
       "        vertical-align: middle;\n",
       "    }\n",
       "\n",
       "    .dataframe tbody tr th {\n",
       "        vertical-align: top;\n",
       "    }\n",
       "\n",
       "    .dataframe thead th {\n",
       "        text-align: right;\n",
       "    }\n",
       "</style>\n",
       "<table border=\"1\" class=\"dataframe\">\n",
       "  <thead>\n",
       "    <tr style=\"text-align: right;\">\n",
       "      <th></th>\n",
       "      <th>date</th>\n",
       "      <th>price</th>\n",
       "      <th>bedrooms</th>\n",
       "      <th>bathrooms</th>\n",
       "      <th>sqft_living</th>\n",
       "      <th>sqft_lot</th>\n",
       "      <th>floors</th>\n",
       "      <th>waterfront</th>\n",
       "      <th>condition</th>\n",
       "      <th>grade</th>\n",
       "      <th>...</th>\n",
       "      <th>zipcode</th>\n",
       "      <th>lat</th>\n",
       "      <th>long</th>\n",
       "      <th>sqft_living15</th>\n",
       "      <th>sqft_lot15</th>\n",
       "      <th>renovated</th>\n",
       "      <th>has_basement</th>\n",
       "      <th>lake_zips</th>\n",
       "      <th>price/sqft</th>\n",
       "      <th>bed_to_bath_ratio</th>\n",
       "    </tr>\n",
       "  </thead>\n",
       "  <tbody>\n",
       "    <tr>\n",
       "      <td>0</td>\n",
       "      <td>2014-10-13</td>\n",
       "      <td>221900.0</td>\n",
       "      <td>3</td>\n",
       "      <td>1.00</td>\n",
       "      <td>1180</td>\n",
       "      <td>5650</td>\n",
       "      <td>1.0</td>\n",
       "      <td>0.0</td>\n",
       "      <td>3</td>\n",
       "      <td>7</td>\n",
       "      <td>...</td>\n",
       "      <td>98178</td>\n",
       "      <td>47.5112</td>\n",
       "      <td>-122.257</td>\n",
       "      <td>1340</td>\n",
       "      <td>5650</td>\n",
       "      <td>0.0</td>\n",
       "      <td>0.0</td>\n",
       "      <td>0.0</td>\n",
       "      <td>188.050847</td>\n",
       "      <td>3.000000</td>\n",
       "    </tr>\n",
       "    <tr>\n",
       "      <td>1</td>\n",
       "      <td>2014-12-09</td>\n",
       "      <td>538000.0</td>\n",
       "      <td>3</td>\n",
       "      <td>2.25</td>\n",
       "      <td>2570</td>\n",
       "      <td>7242</td>\n",
       "      <td>2.0</td>\n",
       "      <td>0.0</td>\n",
       "      <td>3</td>\n",
       "      <td>7</td>\n",
       "      <td>...</td>\n",
       "      <td>98125</td>\n",
       "      <td>47.7210</td>\n",
       "      <td>-122.319</td>\n",
       "      <td>1690</td>\n",
       "      <td>7639</td>\n",
       "      <td>1.0</td>\n",
       "      <td>1.0</td>\n",
       "      <td>0.0</td>\n",
       "      <td>209.338521</td>\n",
       "      <td>1.333333</td>\n",
       "    </tr>\n",
       "    <tr>\n",
       "      <td>2</td>\n",
       "      <td>2015-02-25</td>\n",
       "      <td>180000.0</td>\n",
       "      <td>2</td>\n",
       "      <td>1.00</td>\n",
       "      <td>770</td>\n",
       "      <td>10000</td>\n",
       "      <td>1.0</td>\n",
       "      <td>0.0</td>\n",
       "      <td>3</td>\n",
       "      <td>6</td>\n",
       "      <td>...</td>\n",
       "      <td>98028</td>\n",
       "      <td>47.7379</td>\n",
       "      <td>-122.233</td>\n",
       "      <td>2720</td>\n",
       "      <td>8062</td>\n",
       "      <td>0.0</td>\n",
       "      <td>0.0</td>\n",
       "      <td>0.0</td>\n",
       "      <td>233.766234</td>\n",
       "      <td>2.000000</td>\n",
       "    </tr>\n",
       "    <tr>\n",
       "      <td>3</td>\n",
       "      <td>2014-12-09</td>\n",
       "      <td>604000.0</td>\n",
       "      <td>4</td>\n",
       "      <td>3.00</td>\n",
       "      <td>1960</td>\n",
       "      <td>5000</td>\n",
       "      <td>1.0</td>\n",
       "      <td>0.0</td>\n",
       "      <td>5</td>\n",
       "      <td>7</td>\n",
       "      <td>...</td>\n",
       "      <td>98136</td>\n",
       "      <td>47.5208</td>\n",
       "      <td>-122.393</td>\n",
       "      <td>1360</td>\n",
       "      <td>5000</td>\n",
       "      <td>0.0</td>\n",
       "      <td>1.0</td>\n",
       "      <td>0.0</td>\n",
       "      <td>308.163265</td>\n",
       "      <td>1.333333</td>\n",
       "    </tr>\n",
       "    <tr>\n",
       "      <td>4</td>\n",
       "      <td>2015-02-18</td>\n",
       "      <td>510000.0</td>\n",
       "      <td>3</td>\n",
       "      <td>2.00</td>\n",
       "      <td>1680</td>\n",
       "      <td>8080</td>\n",
       "      <td>1.0</td>\n",
       "      <td>0.0</td>\n",
       "      <td>3</td>\n",
       "      <td>8</td>\n",
       "      <td>...</td>\n",
       "      <td>98074</td>\n",
       "      <td>47.6168</td>\n",
       "      <td>-122.045</td>\n",
       "      <td>1800</td>\n",
       "      <td>7503</td>\n",
       "      <td>0.0</td>\n",
       "      <td>0.0</td>\n",
       "      <td>0.0</td>\n",
       "      <td>303.571429</td>\n",
       "      <td>1.500000</td>\n",
       "    </tr>\n",
       "  </tbody>\n",
       "</table>\n",
       "<p>5 rows × 24 columns</p>\n",
       "</div>"
      ],
      "text/plain": [
       "         date     price  bedrooms  bathrooms  sqft_living  sqft_lot  floors  \\\n",
       "0  2014-10-13  221900.0         3       1.00         1180      5650     1.0   \n",
       "1  2014-12-09  538000.0         3       2.25         2570      7242     2.0   \n",
       "2  2015-02-25  180000.0         2       1.00          770     10000     1.0   \n",
       "3  2014-12-09  604000.0         4       3.00         1960      5000     1.0   \n",
       "4  2015-02-18  510000.0         3       2.00         1680      8080     1.0   \n",
       "\n",
       "   waterfront  condition  grade  ...  zipcode      lat     long  \\\n",
       "0         0.0          3      7  ...    98178  47.5112 -122.257   \n",
       "1         0.0          3      7  ...    98125  47.7210 -122.319   \n",
       "2         0.0          3      6  ...    98028  47.7379 -122.233   \n",
       "3         0.0          5      7  ...    98136  47.5208 -122.393   \n",
       "4         0.0          3      8  ...    98074  47.6168 -122.045   \n",
       "\n",
       "   sqft_living15  sqft_lot15  renovated  has_basement  lake_zips  price/sqft  \\\n",
       "0           1340        5650        0.0           0.0        0.0  188.050847   \n",
       "1           1690        7639        1.0           1.0        0.0  209.338521   \n",
       "2           2720        8062        0.0           0.0        0.0  233.766234   \n",
       "3           1360        5000        0.0           1.0        0.0  308.163265   \n",
       "4           1800        7503        0.0           0.0        0.0  303.571429   \n",
       "\n",
       "   bed_to_bath_ratio  \n",
       "0           3.000000  \n",
       "1           1.333333  \n",
       "2           2.000000  \n",
       "3           1.333333  \n",
       "4           1.500000  \n",
       "\n",
       "[5 rows x 24 columns]"
      ]
     },
     "execution_count": 4,
     "metadata": {},
     "output_type": "execute_result"
    }
   ],
   "source": [
    "df = pd.read_csv(\"../data/engineered_data.csv\")\n",
    "# remove 'Unnamed:' index column from cleaned_data.csv\n",
    "df.drop(df.columns[0], axis=1, inplace=True)\n",
    "df.head()"
   ]
  },
  {
   "cell_type": "markdown",
   "metadata": {},
   "source": [
    "## Organizing Variables that Affect Price\n",
    "In the EDA file I identified variables that have a correlation absolute value \n",
    "above 0.20.  My model will attempt to predict price"
   ]
  },
  {
   "cell_type": "code",
   "execution_count": 5,
   "metadata": {
    "ExecuteTime": {
     "end_time": "2020-10-29T22:42:32.920474Z",
     "start_time": "2020-10-29T22:42:32.918462Z"
    }
   },
   "outputs": [],
   "source": [
    "pricefoi = ['price', 'sqft_living', 'grade', 'sqft_above', 'bathrooms', 'bedrooms', 'sqft_basement', 'floors', 'bed_to_bath_ratio', 'lake_zips']"
   ]
  },
  {
   "cell_type": "code",
   "execution_count": 6,
   "metadata": {
    "ExecuteTime": {
     "end_time": "2020-10-29T22:42:32.952387Z",
     "start_time": "2020-10-29T22:42:32.938409Z"
    }
   },
   "outputs": [
    {
     "data": {
      "text/html": [
       "<div>\n",
       "<style scoped>\n",
       "    .dataframe tbody tr th:only-of-type {\n",
       "        vertical-align: middle;\n",
       "    }\n",
       "\n",
       "    .dataframe tbody tr th {\n",
       "        vertical-align: top;\n",
       "    }\n",
       "\n",
       "    .dataframe thead th {\n",
       "        text-align: right;\n",
       "    }\n",
       "</style>\n",
       "<table border=\"1\" class=\"dataframe\">\n",
       "  <thead>\n",
       "    <tr style=\"text-align: right;\">\n",
       "      <th></th>\n",
       "      <th>price</th>\n",
       "      <th>sqft_living</th>\n",
       "      <th>grade</th>\n",
       "      <th>sqft_above</th>\n",
       "      <th>bathrooms</th>\n",
       "      <th>bedrooms</th>\n",
       "      <th>sqft_basement</th>\n",
       "      <th>floors</th>\n",
       "      <th>bed_to_bath_ratio</th>\n",
       "      <th>lake_zips</th>\n",
       "    </tr>\n",
       "  </thead>\n",
       "  <tbody>\n",
       "    <tr>\n",
       "      <td>price</td>\n",
       "      <td>1.000000</td>\n",
       "      <td>0.613178</td>\n",
       "      <td>0.626581</td>\n",
       "      <td>0.495029</td>\n",
       "      <td>0.435792</td>\n",
       "      <td>0.283691</td>\n",
       "      <td>0.267249</td>\n",
       "      <td>0.250291</td>\n",
       "      <td>-0.226600</td>\n",
       "      <td>0.343658</td>\n",
       "    </tr>\n",
       "    <tr>\n",
       "      <td>sqft_living</td>\n",
       "      <td>0.613178</td>\n",
       "      <td>1.000000</td>\n",
       "      <td>0.698740</td>\n",
       "      <td>0.836983</td>\n",
       "      <td>0.711535</td>\n",
       "      <td>0.613073</td>\n",
       "      <td>0.385249</td>\n",
       "      <td>0.337299</td>\n",
       "      <td>-0.294872</td>\n",
       "      <td>0.126972</td>\n",
       "    </tr>\n",
       "    <tr>\n",
       "      <td>grade</td>\n",
       "      <td>0.626581</td>\n",
       "      <td>0.698740</td>\n",
       "      <td>1.000000</td>\n",
       "      <td>0.690444</td>\n",
       "      <td>0.607516</td>\n",
       "      <td>0.324215</td>\n",
       "      <td>0.093701</td>\n",
       "      <td>0.456966</td>\n",
       "      <td>-0.383095</td>\n",
       "      <td>0.132695</td>\n",
       "    </tr>\n",
       "    <tr>\n",
       "      <td>sqft_above</td>\n",
       "      <td>0.495029</td>\n",
       "      <td>0.836983</td>\n",
       "      <td>0.690444</td>\n",
       "      <td>1.000000</td>\n",
       "      <td>0.627500</td>\n",
       "      <td>0.485339</td>\n",
       "      <td>-0.173578</td>\n",
       "      <td>0.538464</td>\n",
       "      <td>-0.284080</td>\n",
       "      <td>0.107516</td>\n",
       "    </tr>\n",
       "    <tr>\n",
       "      <td>bathrooms</td>\n",
       "      <td>0.435792</td>\n",
       "      <td>0.711535</td>\n",
       "      <td>0.607516</td>\n",
       "      <td>0.627500</td>\n",
       "      <td>1.000000</td>\n",
       "      <td>0.497470</td>\n",
       "      <td>0.220189</td>\n",
       "      <td>0.507751</td>\n",
       "      <td>-0.673457</td>\n",
       "      <td>0.069106</td>\n",
       "    </tr>\n",
       "    <tr>\n",
       "      <td>bedrooms</td>\n",
       "      <td>0.283691</td>\n",
       "      <td>0.613073</td>\n",
       "      <td>0.324215</td>\n",
       "      <td>0.485339</td>\n",
       "      <td>0.497470</td>\n",
       "      <td>1.000000</td>\n",
       "      <td>0.278534</td>\n",
       "      <td>0.154400</td>\n",
       "      <td>0.215111</td>\n",
       "      <td>0.077493</td>\n",
       "    </tr>\n",
       "    <tr>\n",
       "      <td>sqft_basement</td>\n",
       "      <td>0.267249</td>\n",
       "      <td>0.385249</td>\n",
       "      <td>0.093701</td>\n",
       "      <td>-0.173578</td>\n",
       "      <td>0.220189</td>\n",
       "      <td>0.278534</td>\n",
       "      <td>1.000000</td>\n",
       "      <td>-0.294540</td>\n",
       "      <td>-0.052762</td>\n",
       "      <td>0.048355</td>\n",
       "    </tr>\n",
       "    <tr>\n",
       "      <td>floors</td>\n",
       "      <td>0.250291</td>\n",
       "      <td>0.337299</td>\n",
       "      <td>0.456966</td>\n",
       "      <td>0.538464</td>\n",
       "      <td>0.507751</td>\n",
       "      <td>0.154400</td>\n",
       "      <td>-0.294540</td>\n",
       "      <td>1.000000</td>\n",
       "      <td>-0.376350</td>\n",
       "      <td>-0.024869</td>\n",
       "    </tr>\n",
       "    <tr>\n",
       "      <td>bed_to_bath_ratio</td>\n",
       "      <td>-0.226600</td>\n",
       "      <td>-0.294872</td>\n",
       "      <td>-0.383095</td>\n",
       "      <td>-0.284080</td>\n",
       "      <td>-0.673457</td>\n",
       "      <td>0.215111</td>\n",
       "      <td>-0.052762</td>\n",
       "      <td>-0.376350</td>\n",
       "      <td>1.000000</td>\n",
       "      <td>-0.018309</td>\n",
       "    </tr>\n",
       "    <tr>\n",
       "      <td>lake_zips</td>\n",
       "      <td>0.343658</td>\n",
       "      <td>0.126972</td>\n",
       "      <td>0.132695</td>\n",
       "      <td>0.107516</td>\n",
       "      <td>0.069106</td>\n",
       "      <td>0.077493</td>\n",
       "      <td>0.048355</td>\n",
       "      <td>-0.024869</td>\n",
       "      <td>-0.018309</td>\n",
       "      <td>1.000000</td>\n",
       "    </tr>\n",
       "  </tbody>\n",
       "</table>\n",
       "</div>"
      ],
      "text/plain": [
       "                      price  sqft_living     grade  sqft_above  bathrooms  \\\n",
       "price              1.000000     0.613178  0.626581    0.495029   0.435792   \n",
       "sqft_living        0.613178     1.000000  0.698740    0.836983   0.711535   \n",
       "grade              0.626581     0.698740  1.000000    0.690444   0.607516   \n",
       "sqft_above         0.495029     0.836983  0.690444    1.000000   0.627500   \n",
       "bathrooms          0.435792     0.711535  0.607516    0.627500   1.000000   \n",
       "bedrooms           0.283691     0.613073  0.324215    0.485339   0.497470   \n",
       "sqft_basement      0.267249     0.385249  0.093701   -0.173578   0.220189   \n",
       "floors             0.250291     0.337299  0.456966    0.538464   0.507751   \n",
       "bed_to_bath_ratio -0.226600    -0.294872 -0.383095   -0.284080  -0.673457   \n",
       "lake_zips          0.343658     0.126972  0.132695    0.107516   0.069106   \n",
       "\n",
       "                   bedrooms  sqft_basement    floors  bed_to_bath_ratio  \\\n",
       "price              0.283691       0.267249  0.250291          -0.226600   \n",
       "sqft_living        0.613073       0.385249  0.337299          -0.294872   \n",
       "grade              0.324215       0.093701  0.456966          -0.383095   \n",
       "sqft_above         0.485339      -0.173578  0.538464          -0.284080   \n",
       "bathrooms          0.497470       0.220189  0.507751          -0.673457   \n",
       "bedrooms           1.000000       0.278534  0.154400           0.215111   \n",
       "sqft_basement      0.278534       1.000000 -0.294540          -0.052762   \n",
       "floors             0.154400      -0.294540  1.000000          -0.376350   \n",
       "bed_to_bath_ratio  0.215111      -0.052762 -0.376350           1.000000   \n",
       "lake_zips          0.077493       0.048355 -0.024869          -0.018309   \n",
       "\n",
       "                   lake_zips  \n",
       "price               0.343658  \n",
       "sqft_living         0.126972  \n",
       "grade               0.132695  \n",
       "sqft_above          0.107516  \n",
       "bathrooms           0.069106  \n",
       "bedrooms            0.077493  \n",
       "sqft_basement       0.048355  \n",
       "floors             -0.024869  \n",
       "bed_to_bath_ratio  -0.018309  \n",
       "lake_zips           1.000000  "
      ]
     },
     "execution_count": 6,
     "metadata": {},
     "output_type": "execute_result"
    }
   ],
   "source": [
    "foimatrix = df[pricefoi].corr()\n",
    "foimatrix"
   ]
  },
  {
   "cell_type": "code",
   "execution_count": 7,
   "metadata": {
    "ExecuteTime": {
     "end_time": "2020-10-29T22:42:33.399176Z",
     "start_time": "2020-10-29T22:42:32.975310Z"
    }
   },
   "outputs": [
    {
     "data": {
      "image/png": "[encoded data removed]",
      "text/plain": [
       "<Figure size 864x720 with 2 Axes>"
      ]
     },
     "metadata": {
      "needs_background": "light"
     },
     "output_type": "display_data"
    }
   ],
   "source": [
    "#Adding some color\n",
    "plt.figure(figsize=(12,10))\n",
    "sns.heatmap(foimatrix, center=0, annot=True);"
   ]
  },
  {
   "cell_type": "markdown",
   "metadata": {},
   "source": [
    "## Removing Variables to Reduce Multicollinearity\n",
    "Based on the correlation matrix above it is clear that many of the variables are highly correlated to each other. The following steps will be taken:\n",
    " * I will only use one of the sqft figures as they are highly correlated\n",
    " * I will remove floors because it has a significant correlation to other variables and a relatively low correlation to price\n",
    " * Bedrooms and bathrooms are correlated and I would like to rather use the bed-to-bath ratio to capture the bedroom dynamic. I will retain bathrooms for now"
   ]
  },
  {
   "cell_type": "markdown",
   "metadata": {},
   "source": [
    "## Building the Model"
   ]
  },
  {
   "cell_type": "code",
   "execution_count": 8,
   "metadata": {
    "ExecuteTime": {
     "end_time": "2020-10-29T22:42:33.424111Z",
     "start_time": "2020-10-29T22:42:33.420133Z"
    }
   },
   "outputs": [],
   "source": [
    "def make_ols_sm(df, cols, add_constant=False, target='price'):\n",
    "    x = df[cols]\n",
    "    if add_constant:\n",
    "        x = sm.add_constant(x)\n",
    "    ols = sm.OLS(df[target], x)\n",
    "    res = ols.fit()\n",
    "    print(res.summary())\n",
    "    return res"
   ]
  },
  {
   "cell_type": "code",
   "execution_count": 9,
   "metadata": {
    "ExecuteTime": {
     "end_time": "2020-10-29T22:42:33.459016Z",
     "start_time": "2020-10-29T22:42:33.445054Z"
    }
   },
   "outputs": [
    {
     "name": "stdout",
     "output_type": "stream",
     "text": [
      "                                 OLS Regression Results                                \n",
      "=======================================================================================\n",
      "Dep. Variable:                  price   R-squared (uncentered):                   0.870\n",
      "Model:                            OLS   Adj. R-squared (uncentered):              0.870\n",
      "Method:                 Least Squares   F-statistic:                          4.290e+04\n",
      "Date:                Thu, 29 Oct 2020   Prob (F-statistic):                        0.00\n",
      "Time:                        17:42:33   Log-Likelihood:                     -2.6306e+05\n",
      "No. Observations:               19301   AIC:                                  5.261e+05\n",
      "Df Residuals:                   19298   BIC:                                  5.261e+05\n",
      "Df Model:                           3                                                  \n",
      "Covariance Type:            nonrobust                                                  \n",
      "=====================================================================================\n",
      "                        coef    std err          t      P>|t|      [0.025      0.975]\n",
      "-------------------------------------------------------------------------------------\n",
      "grade              8.042e+04    466.968    172.208      0.000    7.95e+04    8.13e+04\n",
      "bed_to_bath_ratio -6.779e+04   1850.122    -36.642      0.000   -7.14e+04   -6.42e+04\n",
      "lake_zips          3.614e+05   6971.702     51.839      0.000    3.48e+05    3.75e+05\n",
      "==============================================================================\n",
      "Omnibus:                     6188.946   Durbin-Watson:                   1.968\n",
      "Prob(Omnibus):                  0.000   Jarque-Bera (JB):            24366.702\n",
      "Skew:                           1.560   Prob(JB):                         0.00\n",
      "Kurtosis:                       7.535   Cond. No.                         37.5\n",
      "==============================================================================\n",
      "\n",
      "Warnings:\n",
      "[1] Standard Errors assume that the covariance matrix of the errors is correctly specified.\n"
     ]
    }
   ],
   "source": [
    "# cols = ['sqft_living', 'grade', 'bathrooms', 'bed_to_bath_ratio', 'lake_zips']\n",
    "cols = ['grade', 'bed_to_bath_ratio', 'lake_zips']\n",
    "\n",
    "res = make_ols_sm(df, cols)"
   ]
  },
  {
   "cell_type": "markdown",
   "metadata": {},
   "source": [
    "### Model Conclusions\n",
    "* All P values are low indicating significance of each the variables.  \n",
    "* A coefficient of determination, or R-squared, at 87% indicates a highly predictive model.\n",
    "* In other words 87% of the variation in dependent variables are explained by the independent variables.\n",
    "* A Durbin-Watson of 2 means that there is no autocorrelation amongst the residuals.\n",
    "* The high Jarque-Bera indicates that the residuals are not normally distributed which is an issue.\n",
    "\n",
    "\n"
   ]
  },
  {
   "cell_type": "markdown",
   "metadata": {},
   "source": [
    "### A closer look at the residuals\n",
    " * Examine Histogram\n",
    " * Plot of residuals versus price\n",
    " * Q-Q plot to test for normality|\n",
    " * VIF Factor analysis to test for multicollinearity"
   ]
  },
  {
   "cell_type": "code",
   "execution_count": 10,
   "metadata": {
    "ExecuteTime": {
     "end_time": "2020-10-29T22:42:33.489934Z",
     "start_time": "2020-10-29T22:42:33.485946Z"
    }
   },
   "outputs": [],
   "source": [
    "def plot_residuals(df, res, target='price'):\n",
    "    plt.hist(res.resid)\n",
    "    plt.xticks(rotation=90)\n",
    "    plt.show()\n",
    "    \n",
    "    plt.scatter(df[target], res.resid)\n",
    "    plt.hlines(y=0, xmin=0, xmax=df[target].max())\n",
    "    plt.xticks(rotation=90)\n",
    "    plt.xlabel(target)\n",
    "    plt.ylabel('Residuals')\n",
    "    plt.show()"
   ]
  },
  {
   "cell_type": "code",
   "execution_count": 11,
   "metadata": {
    "ExecuteTime": {
     "end_time": "2020-10-29T22:42:33.735294Z",
     "start_time": "2020-10-29T22:42:33.512873Z"
    }
   },
   "outputs": [
    {
     "data": {
      "image/png": "[encoded data removed]",
      "text/plain": [
       "<Figure size 432x288 with 1 Axes>"
      ]
     },
     "metadata": {
      "needs_background": "light"
     },
     "output_type": "display_data"
    },
    {
     "data": {
      "image/png": "[encoded data removed]",
      "text/plain": [
       "<Figure size 432x288 with 1 Axes>"
      ]
     },
     "metadata": {
      "needs_background": "light"
     },
     "output_type": "display_data"
    }
   ],
   "source": [
    "#histogram of residuals and a plot versus price\n",
    "plot_residuals(df, res)"
   ]
  },
  {
   "cell_type": "markdown",
   "metadata": {},
   "source": [
    "Residuals are trending and suggest a non-linear relationship between the independent variables and price.  A polynomial model may be more appropriate.  Further research is required."
   ]
  },
  {
   "cell_type": "code",
   "execution_count": 12,
   "metadata": {
    "ExecuteTime": {
     "end_time": "2020-10-29T22:42:33.884893Z",
     "start_time": "2020-10-29T22:42:33.758216Z"
    }
   },
   "outputs": [
    {
     "data": {
      "image/png": "[encoded data removed]",
      "text/plain": [
       "<Figure size 432x288 with 1 Axes>"
      ]
     },
     "metadata": {
      "needs_background": "light"
     },
     "output_type": "display_data"
    }
   ],
   "source": [
    "#q-q plot to look at normality\n",
    "fig = sm.graphics.qqplot(res.resid, dist=stats.norm, line='45', fit=True)"
   ]
  },
  {
   "cell_type": "code",
   "execution_count": 17,
   "metadata": {
    "ExecuteTime": {
     "end_time": "2020-10-29T22:43:39.689215Z",
     "start_time": "2020-10-29T22:43:39.674242Z"
    }
   },
   "outputs": [
    {
     "data": {
      "text/html": [
       "<div>\n",
       "<style scoped>\n",
       "    .dataframe tbody tr th:only-of-type {\n",
       "        vertical-align: middle;\n",
       "    }\n",
       "\n",
       "    .dataframe tbody tr th {\n",
       "        vertical-align: top;\n",
       "    }\n",
       "\n",
       "    .dataframe thead th {\n",
       "        text-align: right;\n",
       "    }\n",
       "</style>\n",
       "<table border=\"1\" class=\"dataframe\">\n",
       "  <thead>\n",
       "    <tr style=\"text-align: right;\">\n",
       "      <th></th>\n",
       "      <th>VIF Factor</th>\n",
       "      <th>features</th>\n",
       "    </tr>\n",
       "  </thead>\n",
       "  <tbody>\n",
       "    <tr>\n",
       "      <td>0</td>\n",
       "      <td>6.001710</td>\n",
       "      <td>grade</td>\n",
       "    </tr>\n",
       "    <tr>\n",
       "      <td>1</td>\n",
       "      <td>5.909618</td>\n",
       "      <td>bed_to_bath_ratio</td>\n",
       "    </tr>\n",
       "    <tr>\n",
       "      <td>2</td>\n",
       "      <td>1.056583</td>\n",
       "      <td>lake_zips</td>\n",
       "    </tr>\n",
       "  </tbody>\n",
       "</table>\n",
       "</div>"
      ],
      "text/plain": [
       "   VIF Factor           features\n",
       "0    6.001710              grade\n",
       "1    5.909618  bed_to_bath_ratio\n",
       "2    1.056583          lake_zips"
      ]
     },
     "execution_count": 17,
     "metadata": {},
     "output_type": "execute_result"
    }
   ],
   "source": [
    "X = df[['grade', 'bed_to_bath_ratio', 'lake_zips']]\n",
    "vif = pd.DataFrame()\n",
    "vif[\"VIF Factor\"] = [variance_inflation_factor(X.values, i) for i in range(X.shape[1])]\n",
    "vif[\"features\"] = X.columns\n",
    "vif"
   ]
  },
  {
   "cell_type": "markdown",
   "metadata": {},
   "source": [
    "There does not appear to be significant multi-collinearity between the independent variables"
   ]
  },
  {
   "cell_type": "markdown",
   "metadata": {},
   "source": [
    "### Residual Analysis conclusions\n",
    " * Looks like significant heteroskedasticity exists.  The residuals vary with price.  There is more noise in the model as price increases.  There appears to be a non-linear relationship between the independent variables and price.  If I had more time I would explore a non-linear predictive model"
   ]
  }
 ],
 "metadata": {
  "kernelspec": {
   "display_name": "Python [conda env:learn-env] *",
   "language": "python",
   "name": "conda-env-learn-env-py"
  },
  "language_info": {
   "codemirror_mode": {
    "name": "ipython",
    "version": 3
   },
   "file_extension": ".py",
   "mimetype": "text/x-python",
   "name": "python",
   "nbconvert_exporter": "python",
   "pygments_lexer": "ipython3",
   "version": "3.6.9"
  },
  "toc": {
   "base_numbering": 1,
   "nav_menu": {},
   "number_sections": true,
   "sideBar": true,
   "skip_h1_title": false,
   "title_cell": "Table of Contents",
   "title_sidebar": "Contents",
   "toc_cell": false,
   "toc_position": {},
   "toc_section_display": true,
   "toc_window_display": false
  },
  "varInspector": {
   "cols": {
    "lenName": 16,
    "lenType": 16,
    "lenVar": 40
   },
   "kernels_config": {
    "python": {
     "delete_cmd_postfix": "",
     "delete_cmd_prefix": "del ",
     "library": "var_list.py",
     "varRefreshCmd": "print(var_dic_list())"
    },
    "r": {
     "delete_cmd_postfix": ") ",
     "delete_cmd_prefix": "rm(",
     "library": "var_list.r",
     "varRefreshCmd": "cat(var_dic_list()) "
    }
   },
   "types_to_exclude": [
    "module",
    "function",
    "builtin_function_or_method",
    "instance",
    "_Feature"
   ],
   "window_display": false
  }
 },
 "nbformat": 4,
 "nbformat_minor": 2
}
